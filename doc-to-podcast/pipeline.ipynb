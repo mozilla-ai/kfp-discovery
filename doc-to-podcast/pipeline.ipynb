{
 "cells": [
  {
   "cell_type": "code",
   "execution_count": null,
   "metadata": {},
   "outputs": [],
   "source": [
    "from kfp import dsl, compiler, components"
   ],
   "id": "c9885ca58d63ae2b"
  },
  {
   "cell_type": "code",
   "execution_count": null,
   "id": "b25cc57e",
   "metadata": {
    "ExecuteTime": {
     "end_time": "2025-04-29T12:42:20.199813Z",
     "start_time": "2025-04-29T12:42:20.079932Z"
    }
   },
   "outputs": [],
   "source": [
    "downloader_component_url = \"https://raw.githubusercontent.com/mozilla-ai/kfp-discovery/refs/heads/main/_components/downloader.yaml\"\n",
    "download_document = components.load_component_from_url(downloader_component_url)\n",
    "\n",
    "transformer_component_url = \"https://raw.githubusercontent.com/mozilla-ai/kfp-discovery/refs/heads/main/_components/transformer.yaml\"\n",
    "transform_document = components.load_component_from_url(transformer_component_url)\n",
    "\n",
    "scriptwriter_component_url  = \"https://raw.githubusercontent.com/mozilla-ai/kfp-discovery/refs/heads/main/_components/scriptwriter.yaml\"\n",
    "scriptwriter = components.load_component_from_url(scriptwriter_component_url)\n",
    "\n",
    "performer_component_url = \"https://raw.githubusercontent.com/mozilla-ai/kfp-discovery/refs/heads/main/_components/performer.yaml\"\n",
    "performer = components.load_component_from_url(performer_component_url)"
   ]
  },
  {
   "cell_type": "code",
   "execution_count": null,
   "id": "62f1246e",
   "metadata": {},
   "outputs": [],
   "source": [
    "@dsl.pipeline\n",
    "def document_to_podcast(\n",
    "    document_url: str,\n",
    "    file_type: str = None,\n",
    "    audio_format: str = None,\n",
    "    host_name: str = None,\n",
    "    cohost_name: str = None,\n",
    "    host_voice_profile: str = None,\n",
    "    cohost_voice_profile: str = None,\n",
    "    text_to_text_model: str = None,\n",
    "    text_to_speech_model: str = None,\n",
    "):\n",
    "    \"\"\"Convert a document to a podcast.\n",
    "\n",
    "    This pipeline downloads a document, processes it, converts it to a script,\n",
    "    and finally converts the script to speech (podcast).\n",
    "\n",
    "    Args:\n",
    "        :param document_url: Path to the input document.\n",
    "        :param file_type: The file type of the input document. e.g. .html, .txt, .pdf.\n",
    "        :param audio_format: Output podcast file type .e.g. WAV, MP3.\n",
    "        :param host_name: Name of the host.\n",
    "        :param cohost_name: Name of the co-host.\n",
    "        :param host_voice_profile: Voice profile for the host.\n",
    "        :param cohost_voice_profile: Voice profile for the co-host.\n",
    "        :param text_to_text_model: The text-to-speech model to use for script writing.\n",
    "        :param text_to_speech_model: The text-to-speech model to use for performing the podcast.\n",
    "    \"\"\"\n",
    "    download_document_step = download_document(document_url=document_url)\n",
    "    download_document_step.set_caching_options(False)\n",
    "\n",
    "    process_data_step = transform_document(\n",
    "        file_path=download_document_step.outputs['downloaded_file_path'],\n",
    "        file_type=file_type,\n",
    "    ).after(download_document_step)\n",
    "    process_data_step.set_caching_options(False)\n",
    "\n",
    "    scriptwriter_step = scriptwriter(\n",
    "        processed_document=process_data_step.outputs['processed_document'],\n",
    "        host_name=host_name,\n",
    "        cohost_name=cohost_name,\n",
    "        model=text_to_text_model,\n",
    "    ).after(process_data_step)\n",
    "    scriptwriter_step.set_accelerator_type(\"nvidia.com/gpu\")\n",
    "    scriptwriter_step.set_accelerator_limit(1)\n",
    "    scriptwriter_step.set_caching_options(False)\n",
    "\n",
    "    performer_step = performer(\n",
    "        podcast_script=scriptwriter_step.outputs['podcast_script'],\n",
    "        host_voice_profile=host_voice_profile,\n",
    "        cohost_voice_profile=cohost_voice_profile,\n",
    "        model=text_to_speech_model,\n",
    "        audio_format=audio_format,\n",
    "    ).after(scriptwriter_step)\n",
    "    performer_step.set_accelerator_type(\"nvidia.com/gpu\")\n",
    "    performer_step.set_accelerator_limit(1)\n",
    "    performer_step.set_caching_options(False)"
   ]
  },
  {
   "cell_type": "code",
   "execution_count": null,
   "id": "edf3ec76",
   "metadata": {},
   "outputs": [],
   "source": [
    "compiler.Compiler().compile(document_to_podcast, package_path='document_to_podcast.yaml')"
   ]
  }
 ],
 "metadata": {
  "kernelspec": {
   "display_name": ".venv",
   "language": "python",
   "name": "python3"
  },
  "language_info": {
   "codemirror_mode": {
    "name": "ipython",
    "version": 3
   },
   "file_extension": ".py",
   "mimetype": "text/x-python",
   "name": "python",
   "nbconvert_exporter": "python",
   "pygments_lexer": "ipython3",
   "version": "3.11.10"
  }
 },
 "nbformat": 4,
 "nbformat_minor": 5
}
