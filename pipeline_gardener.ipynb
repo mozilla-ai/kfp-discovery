{
 "cells": [
  {
   "cell_type": "code",
   "execution_count": null,
   "id": "68d9deea",
   "metadata": {},
   "outputs": [],
   "source": [
    "import kfp\n",
    "from kfp import components\n",
    "from networkx import DiGraph\n",
    "from jinja2 import Environment"
   ]
  },
  {
   "cell_type": "code",
   "execution_count": null,
   "id": "b25cc57e",
   "metadata": {},
   "outputs": [],
   "source": [
    "downloader_component_path = \"_components/downloader.yaml\"\n",
    "download_document = components.load_component_from_file(downloader_component_path)\n",
    "\n",
    "transformer_component_path = \"_components/transformer.yaml\"\n",
    "transform_document = components.load_component_from_file(transformer_component_path)\n",
    "\n",
    "scriptwriter_component_path  = \"_components/scriptwriter.yaml\"\n",
    "scriptwriter = components.load_component_from_file(scriptwriter_component_path)\n",
    "\n",
    "performer_component_path = \"_components/performer.yaml\"\n",
    "performer = components.load_component_from_file(performer_component_path)"
   ]
  },
  {
   "cell_type": "code",
   "execution_count": null,
   "id": "2aa6bf47",
   "metadata": {},
   "outputs": [],
   "source": [
    "class Step:\n",
    "    def __init__(self, component: components.YamlComponent):\n",
    "        self.component = component\n",
    "\n",
    "    @property\n",
    "    def name(self) -> str:\n",
    "        return self.component.name\n",
    "\n",
    "    @property\n",
    "    def description(self) -> str:\n",
    "        return self.component.description\n",
    "\n",
    "    @property\n",
    "    def inputs(self) -> list[str]:\n",
    "        return list(self.component.component_spec.inputs.keys())\n",
    "    \n",
    "    @property\n",
    "    def outputs(self) -> list[str]:\n",
    "        return list(self.component.component_spec.outputs.keys())\n",
    "    \n",
    "    @property\n",
    "    def produced_artifacts(self) -> dict[str, kfp.dsl.structures.OutputSpec]:\n",
    "        return {f\"{artifact}\": self.component.component_spec.outputs[artifact] for artifact in self.component.component_spec.outputs\n",
    "                if self.component.component_spec.outputs[artifact].type.startswith(\"system.\")}\n",
    "    \n",
    "    @property\n",
    "    def pipeline_parameters(self) -> dict[str, kfp.dsl.structures.InputSpec]:\n",
    "        return {f\"{self.name}-{param}\": self.component.component_spec.inputs[param] for param in self.component.component_spec.inputs\n",
    "                if not self.component.component_spec.inputs[param].type.startswith(\"system.\")}\n",
    "\n",
    "    def __repr__(self) -> str:\n",
    "        return f\"Step(name={self.name}, description={self.description})\""
   ]
  },
  {
   "cell_type": "code",
   "execution_count": null,
   "id": "078eb106",
   "metadata": {},
   "outputs": [],
   "source": [
    "download_document_step = Step(download_document)\n",
    "transform_document_step = Step(transform_document)\n",
    "scriptwriter_step = Step(scriptwriter)\n",
    "performer_step = Step(performer)"
   ]
  },
  {
   "cell_type": "code",
   "execution_count": null,
   "id": "d5b2341d",
   "metadata": {},
   "outputs": [],
   "source": [
    "pipe = DiGraph()\n",
    "\n",
    "pipe.add_node(download_document_step)\n",
    "pipe.add_node(transform_document_step)\n",
    "pipe.add_node(scriptwriter_step)\n",
    "pipe.add_node(performer_step)\n",
    "pipe.add_edge(download_document_step, transform_document_step)\n",
    "pipe.add_edge(transform_document_step, scriptwriter_step)\n",
    "pipe.add_edge(scriptwriter_step, performer_step)"
   ]
  },
  {
   "cell_type": "code",
   "execution_count": null,
   "id": "254df5ed",
   "metadata": {},
   "outputs": [],
   "source": [
    "with open(\"pipeline.jinja\", \"r\") as f:\n",
    "    template_str = f.read()\n",
    "\n",
    "env = Environment(trim_blocks=True, lstrip_blocks=True)\n",
    "    \n",
    "# Create the template from our template string\n",
    "template = env.from_string(template_str)"
   ]
  },
  {
   "cell_type": "code",
   "execution_count": null,
   "id": "170360d6",
   "metadata": {},
   "outputs": [],
   "source": [
    "# Render the template with components\n",
    "rendered_yaml = template.render(pipe=pipe)\n",
    "\n",
    "# Format the rendered YAML\n",
    "with open(\"my_pipe.yaml\", 'w') as f:\n",
    "    f.write(rendered_yaml)"
   ]
  }
 ],
 "metadata": {
  "kernelspec": {
   "display_name": ".venv",
   "language": "python",
   "name": "python3"
  },
  "language_info": {
   "codemirror_mode": {
    "name": "ipython",
    "version": 3
   },
   "file_extension": ".py",
   "mimetype": "text/x-python",
   "name": "python",
   "nbconvert_exporter": "python",
   "pygments_lexer": "ipython3",
   "version": "3.11.10"
  }
 },
 "nbformat": 4,
 "nbformat_minor": 5
}
