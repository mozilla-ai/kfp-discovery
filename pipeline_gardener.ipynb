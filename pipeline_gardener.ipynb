{
 "cells": [
  {
   "cell_type": "code",
   "execution_count": 1,
   "id": "68d9deea",
   "metadata": {},
   "outputs": [],
   "source": [
    "import json\n",
    "import kfp\n",
    "from dataclasses import dataclass\n",
    "from kfp import components\n",
    "from networkx import DiGraph\n",
    "from jinja2 import Environment"
   ]
  },
  {
   "cell_type": "code",
   "execution_count": 2,
   "id": "4a9263ff",
   "metadata": {},
   "outputs": [],
   "source": [
    "with open('recommender-response.json') as f:\n",
    "    recommender_response = json.load(f)"
   ]
  },
  {
   "cell_type": "code",
   "execution_count": 3,
   "id": "3b05c09a",
   "metadata": {},
   "outputs": [],
   "source": [
    "# Temporary fix for the recommender response\n",
    "for node in recommender_response[\"nodes\"]:\n",
    "    node[\"component\"][\"url\"] = f\"_components/{node['component']['name']}.yaml\""
   ]
  },
  {
   "cell_type": "code",
   "execution_count": 4,
   "id": "2aa6bf47",
   "metadata": {},
   "outputs": [],
   "source": [
    "class Step:\n",
    "    def __init__(self, component: components.YamlComponent):\n",
    "        self.component = component\n",
    "\n",
    "    @property\n",
    "    def name(self) -> str:\n",
    "        return self.component.name\n",
    "\n",
    "    @property\n",
    "    def description(self) -> str:\n",
    "        return self.component.description\n",
    "\n",
    "    @property\n",
    "    def inputs(self) -> list[str]:\n",
    "        return list(self.component.component_spec.inputs.keys())\n",
    "    \n",
    "    @property\n",
    "    def outputs(self) -> list[str]:\n",
    "        return list(self.component.component_spec.outputs.keys())\n",
    "    \n",
    "    @property\n",
    "    def produced_artifacts(self) -> dict[str, kfp.dsl.structures.OutputSpec]:\n",
    "        return {f\"{artifact}\": self.component.component_spec.outputs[artifact] for artifact in self.component.component_spec.outputs\n",
    "                if self.component.component_spec.outputs[artifact].type.startswith(\"system.\")}\n",
    "    \n",
    "    @property\n",
    "    def pipeline_parameters(self) -> dict[str, kfp.dsl.structures.InputSpec]:\n",
    "        return {f\"{self.name}-{param}\": self.component.component_spec.inputs[param] for param in self.component.component_spec.inputs\n",
    "                if not self.component.component_spec.inputs[param].type.startswith(\"system.\")}"
   ]
  },
  {
   "cell_type": "code",
   "execution_count": 5,
   "id": "5601a9fa",
   "metadata": {},
   "outputs": [],
   "source": [
    "@dataclass\n",
    "class ArtifactConnection:\n",
    "    def __init__(self, artifact_name: str, artifact_key: str, producer_step: str):\n",
    "        self.artifact_name = artifact_name\n",
    "        self.artifact_key = artifact_key\n",
    "        self.producer_step = producer_step"
   ]
  },
  {
   "cell_type": "code",
   "execution_count": 6,
   "id": "25a3f277",
   "metadata": {},
   "outputs": [],
   "source": [
    "class Pipeline(DiGraph):\n",
    "    def __init__(self, component_definitions: list[dict], component_connections: list[dict]):\n",
    "        super().__init__()\n",
    "        self.component_definitions = component_definitions\n",
    "        self.component_connections = component_connections\n",
    "\n",
    "        self._generate_steps()\n",
    "        self._connect_steps()\n",
    "        self._store_connections()\n",
    "\n",
    "    def _generate_steps(self):\n",
    "        self.steps = {}\n",
    "        for comp_definition in self.component_definitions:\n",
    "            component_name = comp_definition[\"component\"][\"name\"]\n",
    "            component_uri = comp_definition[\"component\"][\"url\"]\n",
    "            step = Step(components.load_component_from_file(component_uri))\n",
    "            self.steps[component_name] = step\n",
    "            self.add_node(step)\n",
    "\n",
    "    def _connect_steps(self):\n",
    "        for comp_connection in self.component_connections:\n",
    "            source = self.steps[comp_connection[\"source\"]]\n",
    "            target = self.steps[comp_connection[\"target\"]]\n",
    "            self.add_edge(source, target)\n",
    "\n",
    "    def _store_connections(self):\n",
    "        self.connection_data = {}\n",
    "        for comp_connection in self.component_connections:\n",
    "            step_name = comp_connection[\"target\"]\n",
    "            artifact_name = comp_connection[\"input\"]\n",
    "            artifact_key = comp_connection[\"output\"]\n",
    "            producer_step = comp_connection[\"source\"]\n",
    "            connection = ArtifactConnection(artifact_name, artifact_key, producer_step)\n",
    "            self.connection_data[step_name] = connection"
   ]
  },
  {
   "cell_type": "code",
   "execution_count": 7,
   "id": "ba4b1450",
   "metadata": {},
   "outputs": [],
   "source": [
    "pipe = Pipeline(recommender_response[\"nodes\"], recommender_response[\"edges\"])"
   ]
  },
  {
   "cell_type": "code",
   "execution_count": 8,
   "id": "254df5ed",
   "metadata": {},
   "outputs": [],
   "source": [
    "with open(\"pipeline.jinja\", \"r\") as f:\n",
    "    template_str = f.read()\n",
    "\n",
    "env = Environment(trim_blocks=True, lstrip_blocks=True)\n",
    "    \n",
    "# Create the template from our template string\n",
    "template = env.from_string(template_str)"
   ]
  },
  {
   "cell_type": "code",
   "execution_count": 9,
   "id": "170360d6",
   "metadata": {},
   "outputs": [],
   "source": [
    "# Render the template with components\n",
    "rendered_yaml = template.render(pipe=pipe)\n",
    "\n",
    "# Format the rendered YAML\n",
    "with open(\"my_pipe.yaml\", 'w') as f:\n",
    "    f.write(rendered_yaml)"
   ]
  }
 ],
 "metadata": {
  "kernelspec": {
   "display_name": ".venv",
   "language": "python",
   "name": "python3"
  },
  "language_info": {
   "codemirror_mode": {
    "name": "ipython",
    "version": 3
   },
   "file_extension": ".py",
   "mimetype": "text/x-python",
   "name": "python",
   "nbconvert_exporter": "python",
   "pygments_lexer": "ipython3",
   "version": "3.11.10"
  }
 },
 "nbformat": 4,
 "nbformat_minor": 5
}
