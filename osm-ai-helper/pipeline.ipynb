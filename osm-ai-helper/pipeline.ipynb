{
 "cells": [
  {
   "cell_type": "code",
   "execution_count": 16,
   "id": "c9885ca58d63ae2b",
   "metadata": {},
   "outputs": [],
   "source": [
    "from kfp import dsl, compiler, components"
   ]
  },
  {
   "cell_type": "code",
   "execution_count": null,
   "id": "b25cc57e",
   "metadata": {
    "ExecuteTime": {
     "end_time": "2025-04-29T12:42:20.199813Z",
     "start_time": "2025-04-29T12:42:20.079932Z"
    }
   },
   "outputs": [],
   "source": [
    "hf_downloader_component_url = \"_components/hf_downloader.yaml\"\n",
    "download_artifact = components.load_component_from_file(hf_downloader_component_url)"
   ]
  },
  {
   "cell_type": "code",
   "execution_count": null,
   "id": "62f1246e",
   "metadata": {},
   "outputs": [],
   "source": [
    "@dsl.pipeline\n",
    "def dowload_hf_artifact(\n",
    "    repo_id: str,\n",
    "    repo_type: str = \"model\",\n",
    "    filename: str = \"model.pt\",\n",
    "):\n",
    "    \"\"\"Download a model from Hugging Face Hub.\n",
    "\n",
    "    Args:\n",
    "        :param repo_id: The Hugging Face Hub repo ID of the model to download.\n",
    "    \"\"\"\n",
    "    download_document_step = download_artifact(\n",
    "        repo_id=repo_id, repo_type=repo_type, filename=filename)\n",
    "    download_document_step.set_caching_options(False)"
   ]
  },
  {
   "cell_type": "code",
   "execution_count": null,
   "id": "edf3ec76",
   "metadata": {},
   "outputs": [],
   "source": [
    "compiler.Compiler().compile(dowload_hf_artifact, package_path='download_hf_artifact.yaml')"
   ]
  },
  {
   "cell_type": "code",
   "execution_count": null,
   "id": "399c132e",
   "metadata": {},
   "outputs": [],
   "source": []
  }
 ],
 "metadata": {
  "kernelspec": {
   "display_name": ".venv",
   "language": "python",
   "name": "python3"
  },
  "language_info": {
   "codemirror_mode": {
    "name": "ipython",
    "version": 3
   },
   "file_extension": ".py",
   "mimetype": "text/x-python",
   "name": "python",
   "nbconvert_exporter": "python",
   "pygments_lexer": "ipython3",
   "version": "3.11.10"
  }
 },
 "nbformat": 4,
 "nbformat_minor": 5
}
