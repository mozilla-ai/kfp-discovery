{
 "cells": [
  {
   "cell_type": "code",
   "execution_count": 1,
   "id": "68d9deea",
   "metadata": {},
   "outputs": [],
   "source": [
    "from kfp import dsl, compiler, components"
   ]
  },
  {
   "cell_type": "code",
   "execution_count": 2,
   "id": "b25cc57e",
   "metadata": {},
   "outputs": [],
   "source": [
    "downloader_component_url = \"https://raw.githubusercontent.com/dpoulopoulos/kpf-discovery/refs/heads/main/_components/downloader.yaml\"\n",
    "download_document = components.load_component_from_url(downloader_component_url)\n",
    "\n",
    "transformer_component_url = \"https://raw.githubusercontent.com/dpoulopoulos/kpf-discovery/refs/heads/main/_components/transformer.yaml\"\n",
    "transform_document = components.load_component_from_url(transformer_component_url)\n",
    "\n",
    "scriptwriter_component_url  = \"https://raw.githubusercontent.com/dpoulopoulos/kpf-discovery/refs/heads/main/_components/scriptwriter.yaml\"\n",
    "scriptwriter = components.load_component_from_url(scriptwriter_component_url)\n",
    "\n",
    "performer_component_url = \"https://raw.githubusercontent.com/dpoulopoulos/kpf-discovery/refs/heads/main/_components/performer.yaml\"\n",
    "performer = components.load_component_from_url(performer_component_url)"
   ]
  },
  {
   "cell_type": "code",
   "execution_count": 3,
   "id": "62f1246e",
   "metadata": {},
   "outputs": [],
   "source": [
    "@dsl.pipeline\n",
    "def document_to_podcast(\n",
    "    document_url: str,\n",
    "    podcast_output_path: str,\n",
    "    file_type: str | None = None,\n",
    "    audio_format: str | None = None,\n",
    "    host_name: str | None = None,\n",
    "    cohost_name: str | None = None,\n",
    "    host_voice_profile: str | None = None,\n",
    "    cohost_voice_profile: str | None = None,\n",
    ") -> None:\n",
    "    \"\"\"Convert a document to a podcast.\n",
    "\n",
    "    This pipeline downloads a document, processes it, converts it to a script,\n",
    "    and finally converts the script to speech (podcast).\n",
    "\n",
    "    Args:\n",
    "        :param document_url: Path to the input document.\n",
    "        :param podcast_output_path: Path to the generated podcast.\n",
    "        :param file_type: The file type of the input document. e.g. .html, .txt, .pdf.\n",
    "        :param audio_format: Output podcast file type .e.g. WAV, MP3.\n",
    "        :param host_name: Name of the host.\n",
    "        :param cohost_name: Name of the co-host.\n",
    "        :param host_voice_profile: Voice profile for the host.\n",
    "        :param cohost_voice_profile: Voice profile for the co-host.\n",
    "    \"\"\"\n",
    "    download_document_step = download_document(url=document_url)\n",
    "    download_document_step.set_caching_options(False)\n",
    "\n",
    "    process_data_step = transform_document(\n",
    "        html_file=download_document_step.outputs['html_file'],\n",
    "        file_type=file_type,\n",
    "    ).after(download_document_step)\n",
    "    process_data_step.set_caching_options(False)\n",
    "\n",
    "    scriptwriter_step = scriptwriter(\n",
    "        processed_document=process_data_step.outputs['processed_document'],\n",
    "        host_name=host_name,\n",
    "        cohost_name=cohost_name\n",
    "    ).after(process_data_step)\n",
    "    scriptwriter_step.set_accelerator_type(\"nvidia.com/gpu\")\n",
    "    scriptwriter_step.set_accelerator_limit(1)\n",
    "    scriptwriter_step.set_caching_options(False)\n",
    "\n",
    "    performer_step = performer(\n",
    "        podcast_script=scriptwriter_step.outputs['podcast_script'],\n",
    "        host_voice_profile=host_voice_profile,\n",
    "        cohost_voice_profile=cohost_voice_profile,\n",
    "        file_type=audio_format,\n",
    "    ).after(scriptwriter_step)\n",
    "    performer_step.set_accelerator_type(\"nvidia.com/gpu\")\n",
    "    performer_step.set_accelerator_limit(1)\n",
    "    performer_step.set_caching_options(False)"
   ]
  },
  {
   "cell_type": "code",
   "execution_count": 4,
   "id": "edf3ec76",
   "metadata": {},
   "outputs": [],
   "source": [
    "compiler.Compiler().compile(document_to_podcast, package_path='document_to_podcast.yaml')"
   ]
  }
 ],
 "metadata": {
  "kernelspec": {
   "display_name": ".venv",
   "language": "python",
   "name": "python3"
  },
  "language_info": {
   "codemirror_mode": {
    "name": "ipython",
    "version": 3
   },
   "file_extension": ".py",
   "mimetype": "text/x-python",
   "name": "python",
   "nbconvert_exporter": "python",
   "pygments_lexer": "ipython3",
   "version": "3.11.10"
  }
 },
 "nbformat": 4,
 "nbformat_minor": 5
}
